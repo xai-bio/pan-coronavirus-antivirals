{
  "nbformat": 4,
  "nbformat_minor": 0,
  "metadata": {
    "colab": {
      "name": "SARS-P2.ipynb",
      "provenance": [],
      "collapsed_sections": [],
      "authorship_tag": "ABX9TyM2INyIZftJGdMtEtuYyTw6",
      "include_colab_link": true
    },
    "kernelspec": {
      "name": "python3",
      "display_name": "Python 3"
    },
    "language_info": {
      "name": "python"
    }
  },
  "cells": [
    {
      "cell_type": "markdown",
      "metadata": {
        "id": "view-in-github",
        "colab_type": "text"
      },
      "source": [
        "<a href=\"https://colab.research.google.com/github/khanfs/pan-coronavirus-antivirals/blob/main/SARS_P2.ipynb\" target=\"_parent\"><img src=\"https://colab.research.google.com/assets/colab-badge.svg\" alt=\"Open In Colab\"/></a>"
      ]
    },
    {
      "cell_type": "markdown",
      "source": [
        "#**Virtual Screening of SARS-CoV Candidate Compounds** \n",
        "\n",
        "##**Exploratory Data Analysis**\n",
        "Filter pharmacokinetic properties of SARS-CoV candidate molecules by [ADME](https://www.ncbi.nlm.nih.gov/pmc/articles/PMC4110820/), [lead-likeness](https://www.sciencedirect.com/science/article/pii/B9780123741943000123) and [Lipinski's rule of five](https://dev.drugbank.com/guides/terms/lipinski-s-rule-of-five) (Ro5) criteria. Keep only orally bioavailable compounds. Ro5 estimates the [bioavailability](https://www.ncbi.nlm.nih.gov/books/NBK557852/) of compounds according to their chemical structure. Probability of poor absorption increases if chemical structures violate one or more of the **Ro5 rules**:   \n",
        "\n",
        "* Molecular weight (MWT) <= 500 Da\n",
        "* Number of hydrogen bond acceptors (HBAs) <= 10\n",
        "* Number of hydrogen bond donors (HBD) <= 5\n",
        "* Calculated LogP (octanol-water coefficient) <= 5\n"
      ],
      "metadata": {
        "id": "Ox4CfjqFMR2_"
      }
    },
    {
      "cell_type": "code",
      "execution_count": 1,
      "metadata": {
        "id": "r4eb2EQVLqHY"
      },
      "outputs": [],
      "source": [
        "# Import packages, modules and libraries \n",
        "from pathlib import Path\n",
        "import math\n",
        "\n",
        "import numpy as np\n",
        "import pandas as pd\n",
        "import matplotlib.pyplot as plt\n",
        "from matplotlib.lines import Line2D\n",
        "import matplotlib.patches as mpatches"
      ]
    },
    {
      "cell_type": "code",
      "source": [
        "# Install NBVAL\n",
        "! pip install nbval"
      ],
      "metadata": {
        "colab": {
          "base_uri": "https://localhost:8080/"
        },
        "id": "R3YE252FPOlV",
        "outputId": "6c230a58-7b28-4bf3-a908-73e6420ae032"
      },
      "execution_count": 2,
      "outputs": [
        {
          "output_type": "stream",
          "name": "stdout",
          "text": [
            "Looking in indexes: https://pypi.org/simple, https://us-python.pkg.dev/colab-wheels/public/simple/\n",
            "Collecting nbval\n",
            "  Downloading nbval-0.9.6-py2.py3-none-any.whl (23 kB)\n",
            "Requirement already satisfied: nbformat in /usr/local/lib/python3.7/dist-packages (from nbval) (5.4.0)\n",
            "Requirement already satisfied: six in /usr/local/lib/python3.7/dist-packages (from nbval) (1.15.0)\n",
            "Requirement already satisfied: pytest>=2.8 in /usr/local/lib/python3.7/dist-packages (from nbval) (3.6.4)\n",
            "Requirement already satisfied: ipykernel in /usr/local/lib/python3.7/dist-packages (from nbval) (4.10.1)\n",
            "Requirement already satisfied: jupyter-client in /usr/local/lib/python3.7/dist-packages (from nbval) (5.3.5)\n",
            "Requirement already satisfied: coverage in /usr/local/lib/python3.7/dist-packages (from nbval) (3.7.1)\n",
            "Requirement already satisfied: attrs>=17.4.0 in /usr/local/lib/python3.7/dist-packages (from pytest>=2.8->nbval) (21.4.0)\n",
            "Requirement already satisfied: more-itertools>=4.0.0 in /usr/local/lib/python3.7/dist-packages (from pytest>=2.8->nbval) (8.13.0)\n",
            "Requirement already satisfied: pluggy<0.8,>=0.5 in /usr/local/lib/python3.7/dist-packages (from pytest>=2.8->nbval) (0.7.1)\n",
            "Requirement already satisfied: setuptools in /usr/local/lib/python3.7/dist-packages (from pytest>=2.8->nbval) (57.4.0)\n",
            "Requirement already satisfied: atomicwrites>=1.0 in /usr/local/lib/python3.7/dist-packages (from pytest>=2.8->nbval) (1.4.1)\n",
            "Requirement already satisfied: py>=1.5.0 in /usr/local/lib/python3.7/dist-packages (from pytest>=2.8->nbval) (1.11.0)\n",
            "Requirement already satisfied: tornado>=4.0 in /usr/local/lib/python3.7/dist-packages (from ipykernel->nbval) (5.1.1)\n",
            "Requirement already satisfied: ipython>=4.0.0 in /usr/local/lib/python3.7/dist-packages (from ipykernel->nbval) (5.5.0)\n",
            "Requirement already satisfied: traitlets>=4.1.0 in /usr/local/lib/python3.7/dist-packages (from ipykernel->nbval) (5.1.1)\n",
            "Requirement already satisfied: simplegeneric>0.8 in /usr/local/lib/python3.7/dist-packages (from ipython>=4.0.0->ipykernel->nbval) (0.8.1)\n",
            "Requirement already satisfied: prompt-toolkit<2.0.0,>=1.0.4 in /usr/local/lib/python3.7/dist-packages (from ipython>=4.0.0->ipykernel->nbval) (1.0.18)\n",
            "Requirement already satisfied: pygments in /usr/local/lib/python3.7/dist-packages (from ipython>=4.0.0->ipykernel->nbval) (2.6.1)\n",
            "Requirement already satisfied: pexpect in /usr/local/lib/python3.7/dist-packages (from ipython>=4.0.0->ipykernel->nbval) (4.8.0)\n",
            "Requirement already satisfied: decorator in /usr/local/lib/python3.7/dist-packages (from ipython>=4.0.0->ipykernel->nbval) (4.4.2)\n",
            "Requirement already satisfied: pickleshare in /usr/local/lib/python3.7/dist-packages (from ipython>=4.0.0->ipykernel->nbval) (0.7.5)\n",
            "Requirement already satisfied: wcwidth in /usr/local/lib/python3.7/dist-packages (from prompt-toolkit<2.0.0,>=1.0.4->ipython>=4.0.0->ipykernel->nbval) (0.2.5)\n",
            "Requirement already satisfied: jupyter-core>=4.6.0 in /usr/local/lib/python3.7/dist-packages (from jupyter-client->nbval) (4.11.1)\n",
            "Requirement already satisfied: python-dateutil>=2.1 in /usr/local/lib/python3.7/dist-packages (from jupyter-client->nbval) (2.8.2)\n",
            "Requirement already satisfied: pyzmq>=13 in /usr/local/lib/python3.7/dist-packages (from jupyter-client->nbval) (23.2.0)\n",
            "Requirement already satisfied: fastjsonschema in /usr/local/lib/python3.7/dist-packages (from nbformat->nbval) (2.15.3)\n",
            "Requirement already satisfied: jsonschema>=2.6 in /usr/local/lib/python3.7/dist-packages (from nbformat->nbval) (4.3.3)\n",
            "Requirement already satisfied: pyrsistent!=0.17.0,!=0.17.1,!=0.17.2,>=0.14.0 in /usr/local/lib/python3.7/dist-packages (from jsonschema>=2.6->nbformat->nbval) (0.18.1)\n",
            "Requirement already satisfied: typing-extensions in /usr/local/lib/python3.7/dist-packages (from jsonschema>=2.6->nbformat->nbval) (4.1.1)\n",
            "Requirement already satisfied: importlib-resources>=1.4.0 in /usr/local/lib/python3.7/dist-packages (from jsonschema>=2.6->nbformat->nbval) (5.8.0)\n",
            "Requirement already satisfied: importlib-metadata in /usr/local/lib/python3.7/dist-packages (from jsonschema>=2.6->nbformat->nbval) (4.12.0)\n",
            "Requirement already satisfied: zipp>=3.1.0 in /usr/local/lib/python3.7/dist-packages (from importlib-resources>=1.4.0->jsonschema>=2.6->nbformat->nbval) (3.8.0)\n",
            "Requirement already satisfied: ptyprocess>=0.5 in /usr/local/lib/python3.7/dist-packages (from pexpect->ipython>=4.0.0->ipykernel->nbval) (0.7.0)\n",
            "Installing collected packages: nbval\n",
            "Successfully installed nbval-0.9.6\n"
          ]
        }
      ]
    },
    {
      "cell_type": "code",
      "source": [
        "import nbval"
      ],
      "metadata": {
        "id": "HvTajUTsPR1A"
      },
      "execution_count": 3,
      "outputs": []
    },
    {
      "cell_type": "code",
      "source": [
        "# Install RDKit\n",
        "! pip install rdkit-pypi -qqq"
      ],
      "metadata": {
        "id": "BOd_HYiVOAhR",
        "colab": {
          "base_uri": "https://localhost:8080/"
        },
        "outputId": "b563bfdf-831d-4797-da7d-cbec95ffd079"
      },
      "execution_count": 4,
      "outputs": [
        {
          "output_type": "stream",
          "name": "stdout",
          "text": [
            "\u001b[K     |████████████████████████████████| 22.7 MB 20.9 MB/s \n",
            "\u001b[?25h"
          ]
        }
      ]
    },
    {
      "cell_type": "code",
      "source": [
        "from rdkit import Chem\n",
        "from rdkit.Chem import Descriptors, Draw, PandasTools"
      ],
      "metadata": {
        "id": "L43AODg5OIpw"
      },
      "execution_count": 5,
      "outputs": []
    },
    {
      "cell_type": "code",
      "source": [
        "# Set path to this notebook\n",
        "HERE = Path(_dh[-1])\n",
        "DATA = HERE / \"data\""
      ],
      "metadata": {
        "id": "RjikgNIaOQAR"
      },
      "execution_count": 6,
      "outputs": []
    },
    {
      "cell_type": "code",
      "source": [
        "molecules = pd.read_csv(HERE / \"..//content/SARS-CoV-1_Compounds.csv\", index_col=0)\n",
        "print(molecules.shape)\n",
        "molecules.head()"
      ],
      "metadata": {
        "colab": {
          "base_uri": "https://localhost:8080/",
          "height": 255
        },
        "id": "rHljJtbFOR8-",
        "outputId": "99b4ae5c-c60f-478b-ef97-6dc169e569e3"
      },
      "execution_count": 7,
      "outputs": [
        {
          "output_type": "stream",
          "name": "stdout",
          "text": [
            "(152, 4)\n"
          ]
        },
        {
          "output_type": "execute_result",
          "data": {
            "text/plain": [
              "                      IC50 units  \\\n",
              "molecule_chembl_id                 \n",
              "CHEMBL2441741        230.0    nM   \n",
              "CHEMBL221366         500.0    nM   \n",
              "CHEMBL2441745        610.0    nM   \n",
              "CHEMBL1876821        940.0    nM   \n",
              "CHEMBL3099526       1040.0    nM   \n",
              "\n",
              "                                                               smiles  \\\n",
              "molecule_chembl_id                                                      \n",
              "CHEMBL2441741       CC(C)C[C@H](NC(=O)[C@H](Cc1cccc2ccccc12)NC(=O)...   \n",
              "CHEMBL221366                                    O=C(Oc1cccnc1)c1cccs1   \n",
              "CHEMBL2441745       CC(C)C[C@H](NC(=O)[C@H](Cc1cccc2ccccc12)NC(=O)...   \n",
              "CHEMBL1876821                 CN(CC(=O)NC1CCCC1)S(=O)(=O)c1cccc(Cl)c1   \n",
              "CHEMBL3099526            CC1CCN(S(=O)(=O)c2ccc3c(c2)C(=O)C(=O)N3C)CC1   \n",
              "\n",
              "                       pIC50  \n",
              "molecule_chembl_id            \n",
              "CHEMBL2441741       6.638272  \n",
              "CHEMBL221366        6.301030  \n",
              "CHEMBL2441745       6.214670  \n",
              "CHEMBL1876821       6.026872  \n",
              "CHEMBL3099526       5.982967  "
            ],
            "text/html": [
              "\n",
              "  <div id=\"df-cf2cab16-e9ec-46a6-9822-bad6554686a5\">\n",
              "    <div class=\"colab-df-container\">\n",
              "      <div>\n",
              "<style scoped>\n",
              "    .dataframe tbody tr th:only-of-type {\n",
              "        vertical-align: middle;\n",
              "    }\n",
              "\n",
              "    .dataframe tbody tr th {\n",
              "        vertical-align: top;\n",
              "    }\n",
              "\n",
              "    .dataframe thead th {\n",
              "        text-align: right;\n",
              "    }\n",
              "</style>\n",
              "<table border=\"1\" class=\"dataframe\">\n",
              "  <thead>\n",
              "    <tr style=\"text-align: right;\">\n",
              "      <th></th>\n",
              "      <th>IC50</th>\n",
              "      <th>units</th>\n",
              "      <th>smiles</th>\n",
              "      <th>pIC50</th>\n",
              "    </tr>\n",
              "    <tr>\n",
              "      <th>molecule_chembl_id</th>\n",
              "      <th></th>\n",
              "      <th></th>\n",
              "      <th></th>\n",
              "      <th></th>\n",
              "    </tr>\n",
              "  </thead>\n",
              "  <tbody>\n",
              "    <tr>\n",
              "      <th>CHEMBL2441741</th>\n",
              "      <td>230.0</td>\n",
              "      <td>nM</td>\n",
              "      <td>CC(C)C[C@H](NC(=O)[C@H](Cc1cccc2ccccc12)NC(=O)...</td>\n",
              "      <td>6.638272</td>\n",
              "    </tr>\n",
              "    <tr>\n",
              "      <th>CHEMBL221366</th>\n",
              "      <td>500.0</td>\n",
              "      <td>nM</td>\n",
              "      <td>O=C(Oc1cccnc1)c1cccs1</td>\n",
              "      <td>6.301030</td>\n",
              "    </tr>\n",
              "    <tr>\n",
              "      <th>CHEMBL2441745</th>\n",
              "      <td>610.0</td>\n",
              "      <td>nM</td>\n",
              "      <td>CC(C)C[C@H](NC(=O)[C@H](Cc1cccc2ccccc12)NC(=O)...</td>\n",
              "      <td>6.214670</td>\n",
              "    </tr>\n",
              "    <tr>\n",
              "      <th>CHEMBL1876821</th>\n",
              "      <td>940.0</td>\n",
              "      <td>nM</td>\n",
              "      <td>CN(CC(=O)NC1CCCC1)S(=O)(=O)c1cccc(Cl)c1</td>\n",
              "      <td>6.026872</td>\n",
              "    </tr>\n",
              "    <tr>\n",
              "      <th>CHEMBL3099526</th>\n",
              "      <td>1040.0</td>\n",
              "      <td>nM</td>\n",
              "      <td>CC1CCN(S(=O)(=O)c2ccc3c(c2)C(=O)C(=O)N3C)CC1</td>\n",
              "      <td>5.982967</td>\n",
              "    </tr>\n",
              "  </tbody>\n",
              "</table>\n",
              "</div>\n",
              "      <button class=\"colab-df-convert\" onclick=\"convertToInteractive('df-cf2cab16-e9ec-46a6-9822-bad6554686a5')\"\n",
              "              title=\"Convert this dataframe to an interactive table.\"\n",
              "              style=\"display:none;\">\n",
              "        \n",
              "  <svg xmlns=\"http://www.w3.org/2000/svg\" height=\"24px\"viewBox=\"0 0 24 24\"\n",
              "       width=\"24px\">\n",
              "    <path d=\"M0 0h24v24H0V0z\" fill=\"none\"/>\n",
              "    <path d=\"M18.56 5.44l.94 2.06.94-2.06 2.06-.94-2.06-.94-.94-2.06-.94 2.06-2.06.94zm-11 1L8.5 8.5l.94-2.06 2.06-.94-2.06-.94L8.5 2.5l-.94 2.06-2.06.94zm10 10l.94 2.06.94-2.06 2.06-.94-2.06-.94-.94-2.06-.94 2.06-2.06.94z\"/><path d=\"M17.41 7.96l-1.37-1.37c-.4-.4-.92-.59-1.43-.59-.52 0-1.04.2-1.43.59L10.3 9.45l-7.72 7.72c-.78.78-.78 2.05 0 2.83L4 21.41c.39.39.9.59 1.41.59.51 0 1.02-.2 1.41-.59l7.78-7.78 2.81-2.81c.8-.78.8-2.07 0-2.86zM5.41 20L4 18.59l7.72-7.72 1.47 1.35L5.41 20z\"/>\n",
              "  </svg>\n",
              "      </button>\n",
              "      \n",
              "  <style>\n",
              "    .colab-df-container {\n",
              "      display:flex;\n",
              "      flex-wrap:wrap;\n",
              "      gap: 12px;\n",
              "    }\n",
              "\n",
              "    .colab-df-convert {\n",
              "      background-color: #E8F0FE;\n",
              "      border: none;\n",
              "      border-radius: 50%;\n",
              "      cursor: pointer;\n",
              "      display: none;\n",
              "      fill: #1967D2;\n",
              "      height: 32px;\n",
              "      padding: 0 0 0 0;\n",
              "      width: 32px;\n",
              "    }\n",
              "\n",
              "    .colab-df-convert:hover {\n",
              "      background-color: #E2EBFA;\n",
              "      box-shadow: 0px 1px 2px rgba(60, 64, 67, 0.3), 0px 1px 3px 1px rgba(60, 64, 67, 0.15);\n",
              "      fill: #174EA6;\n",
              "    }\n",
              "\n",
              "    [theme=dark] .colab-df-convert {\n",
              "      background-color: #3B4455;\n",
              "      fill: #D2E3FC;\n",
              "    }\n",
              "\n",
              "    [theme=dark] .colab-df-convert:hover {\n",
              "      background-color: #434B5C;\n",
              "      box-shadow: 0px 1px 3px 1px rgba(0, 0, 0, 0.15);\n",
              "      filter: drop-shadow(0px 1px 2px rgba(0, 0, 0, 0.3));\n",
              "      fill: #FFFFFF;\n",
              "    }\n",
              "  </style>\n",
              "\n",
              "      <script>\n",
              "        const buttonEl =\n",
              "          document.querySelector('#df-cf2cab16-e9ec-46a6-9822-bad6554686a5 button.colab-df-convert');\n",
              "        buttonEl.style.display =\n",
              "          google.colab.kernel.accessAllowed ? 'block' : 'none';\n",
              "\n",
              "        async function convertToInteractive(key) {\n",
              "          const element = document.querySelector('#df-cf2cab16-e9ec-46a6-9822-bad6554686a5');\n",
              "          const dataTable =\n",
              "            await google.colab.kernel.invokeFunction('convertToInteractive',\n",
              "                                                     [key], {});\n",
              "          if (!dataTable) return;\n",
              "\n",
              "          const docLinkHtml = 'Like what you see? Visit the ' +\n",
              "            '<a target=\"_blank\" href=https://colab.research.google.com/notebooks/data_table.ipynb>data table notebook</a>'\n",
              "            + ' to learn more about interactive tables.';\n",
              "          element.innerHTML = '';\n",
              "          dataTable['output_type'] = 'display_data';\n",
              "          await google.colab.output.renderOutput(dataTable, element);\n",
              "          const docLink = document.createElement('div');\n",
              "          docLink.innerHTML = docLinkHtml;\n",
              "          element.appendChild(docLink);\n",
              "        }\n",
              "      </script>\n",
              "    </div>\n",
              "  </div>\n",
              "  "
            ]
          },
          "metadata": {},
          "execution_count": 7
        }
      ]
    },
    {
      "cell_type": "markdown",
      "source": [
        "###**1. Apply Ro5 to SARS-CoV Molecule Candidates**"
      ],
      "metadata": {
        "id": "RaSZ9Qb0S_Kt"
      }
    },
    {
      "cell_type": "code",
      "source": [
        "# Apply Ro5 function calculate_r05_properties to molecules\n",
        "def calculate_ro5_properties(smiles):\n",
        "    \"\"\"\n",
        "    Test if input molecule (SMILES) fulfills Lipinski's rule of five.\n",
        "\n",
        "    Parameters\n",
        "    ----------\n",
        "    smiles : str\n",
        "        SMILES for a molecule.\n",
        "\n",
        "    Returns\n",
        "    -------\n",
        "    pandas.Series\n",
        "        Molecular weight, number of hydrogen bond acceptors/donor and logP value\n",
        "        and Lipinski's rule of five compliance for input molecule.\n",
        "    \"\"\"\n",
        "    # RDKit molecule from SMILES\n",
        "    molecule = Chem.MolFromSmiles(smiles)\n",
        "    # Calculate Ro5-relevant chemical properties\n",
        "    molecular_weight = Descriptors.ExactMolWt(molecule)\n",
        "    n_hba = Descriptors.NumHAcceptors(molecule)\n",
        "    n_hbd = Descriptors.NumHDonors(molecule)\n",
        "    logp = Descriptors.MolLogP(molecule)\n",
        "    # Check if Ro5 conditions fulfilled\n",
        "    conditions = [molecular_weight <= 500, n_hba <= 10, n_hbd <= 5, logp <= 5]\n",
        "    ro5_fulfilled = sum(conditions) >= 3\n",
        "    # Return True if no more than one out of four conditions is violated\n",
        "    return pd.Series(\n",
        "        [molecular_weight, n_hba, n_hbd, logp, ro5_fulfilled],\n",
        "        index=[\"molecular_weight\", \"n_hba\", \"n_hbd\", \"logp\", \"ro5_fulfilled\"],\n",
        "    )\n"
      ],
      "metadata": {
        "id": "zS4VsFx3QWCG"
      },
      "execution_count": 8,
      "outputs": []
    },
    {
      "cell_type": "code",
      "source": [
        "ro5_properties = molecules[\"smiles\"].apply(calculate_ro5_properties)\n",
        "ro5_properties.head()"
      ],
      "metadata": {
        "colab": {
          "base_uri": "https://localhost:8080/",
          "height": 238
        },
        "id": "g_GywswgPqLv",
        "outputId": "3453cbfd-a54f-4100-f444-7279a1f02728"
      },
      "execution_count": 9,
      "outputs": [
        {
          "output_type": "execute_result",
          "data": {
            "text/plain": [
              "                    molecular_weight  n_hba  n_hbd    logp  ro5_fulfilled\n",
              "molecule_chembl_id                                                       \n",
              "CHEMBL2441741             600.294785      6      4  3.4181           True\n",
              "CHEMBL221366              205.019749      4      0  2.3623           True\n",
              "CHEMBL2441745             685.347549      7      5  3.3129           True\n",
              "CHEMBL1876821             330.080491      3      1  2.0193           True\n",
              "CHEMBL3099526             322.098728      4      0  1.2663           True"
            ],
            "text/html": [
              "\n",
              "  <div id=\"df-6daa77f0-ebd3-49ee-814d-0a3561d532a9\">\n",
              "    <div class=\"colab-df-container\">\n",
              "      <div>\n",
              "<style scoped>\n",
              "    .dataframe tbody tr th:only-of-type {\n",
              "        vertical-align: middle;\n",
              "    }\n",
              "\n",
              "    .dataframe tbody tr th {\n",
              "        vertical-align: top;\n",
              "    }\n",
              "\n",
              "    .dataframe thead th {\n",
              "        text-align: right;\n",
              "    }\n",
              "</style>\n",
              "<table border=\"1\" class=\"dataframe\">\n",
              "  <thead>\n",
              "    <tr style=\"text-align: right;\">\n",
              "      <th></th>\n",
              "      <th>molecular_weight</th>\n",
              "      <th>n_hba</th>\n",
              "      <th>n_hbd</th>\n",
              "      <th>logp</th>\n",
              "      <th>ro5_fulfilled</th>\n",
              "    </tr>\n",
              "    <tr>\n",
              "      <th>molecule_chembl_id</th>\n",
              "      <th></th>\n",
              "      <th></th>\n",
              "      <th></th>\n",
              "      <th></th>\n",
              "      <th></th>\n",
              "    </tr>\n",
              "  </thead>\n",
              "  <tbody>\n",
              "    <tr>\n",
              "      <th>CHEMBL2441741</th>\n",
              "      <td>600.294785</td>\n",
              "      <td>6</td>\n",
              "      <td>4</td>\n",
              "      <td>3.4181</td>\n",
              "      <td>True</td>\n",
              "    </tr>\n",
              "    <tr>\n",
              "      <th>CHEMBL221366</th>\n",
              "      <td>205.019749</td>\n",
              "      <td>4</td>\n",
              "      <td>0</td>\n",
              "      <td>2.3623</td>\n",
              "      <td>True</td>\n",
              "    </tr>\n",
              "    <tr>\n",
              "      <th>CHEMBL2441745</th>\n",
              "      <td>685.347549</td>\n",
              "      <td>7</td>\n",
              "      <td>5</td>\n",
              "      <td>3.3129</td>\n",
              "      <td>True</td>\n",
              "    </tr>\n",
              "    <tr>\n",
              "      <th>CHEMBL1876821</th>\n",
              "      <td>330.080491</td>\n",
              "      <td>3</td>\n",
              "      <td>1</td>\n",
              "      <td>2.0193</td>\n",
              "      <td>True</td>\n",
              "    </tr>\n",
              "    <tr>\n",
              "      <th>CHEMBL3099526</th>\n",
              "      <td>322.098728</td>\n",
              "      <td>4</td>\n",
              "      <td>0</td>\n",
              "      <td>1.2663</td>\n",
              "      <td>True</td>\n",
              "    </tr>\n",
              "  </tbody>\n",
              "</table>\n",
              "</div>\n",
              "      <button class=\"colab-df-convert\" onclick=\"convertToInteractive('df-6daa77f0-ebd3-49ee-814d-0a3561d532a9')\"\n",
              "              title=\"Convert this dataframe to an interactive table.\"\n",
              "              style=\"display:none;\">\n",
              "        \n",
              "  <svg xmlns=\"http://www.w3.org/2000/svg\" height=\"24px\"viewBox=\"0 0 24 24\"\n",
              "       width=\"24px\">\n",
              "    <path d=\"M0 0h24v24H0V0z\" fill=\"none\"/>\n",
              "    <path d=\"M18.56 5.44l.94 2.06.94-2.06 2.06-.94-2.06-.94-.94-2.06-.94 2.06-2.06.94zm-11 1L8.5 8.5l.94-2.06 2.06-.94-2.06-.94L8.5 2.5l-.94 2.06-2.06.94zm10 10l.94 2.06.94-2.06 2.06-.94-2.06-.94-.94-2.06-.94 2.06-2.06.94z\"/><path d=\"M17.41 7.96l-1.37-1.37c-.4-.4-.92-.59-1.43-.59-.52 0-1.04.2-1.43.59L10.3 9.45l-7.72 7.72c-.78.78-.78 2.05 0 2.83L4 21.41c.39.39.9.59 1.41.59.51 0 1.02-.2 1.41-.59l7.78-7.78 2.81-2.81c.8-.78.8-2.07 0-2.86zM5.41 20L4 18.59l7.72-7.72 1.47 1.35L5.41 20z\"/>\n",
              "  </svg>\n",
              "      </button>\n",
              "      \n",
              "  <style>\n",
              "    .colab-df-container {\n",
              "      display:flex;\n",
              "      flex-wrap:wrap;\n",
              "      gap: 12px;\n",
              "    }\n",
              "\n",
              "    .colab-df-convert {\n",
              "      background-color: #E8F0FE;\n",
              "      border: none;\n",
              "      border-radius: 50%;\n",
              "      cursor: pointer;\n",
              "      display: none;\n",
              "      fill: #1967D2;\n",
              "      height: 32px;\n",
              "      padding: 0 0 0 0;\n",
              "      width: 32px;\n",
              "    }\n",
              "\n",
              "    .colab-df-convert:hover {\n",
              "      background-color: #E2EBFA;\n",
              "      box-shadow: 0px 1px 2px rgba(60, 64, 67, 0.3), 0px 1px 3px 1px rgba(60, 64, 67, 0.15);\n",
              "      fill: #174EA6;\n",
              "    }\n",
              "\n",
              "    [theme=dark] .colab-df-convert {\n",
              "      background-color: #3B4455;\n",
              "      fill: #D2E3FC;\n",
              "    }\n",
              "\n",
              "    [theme=dark] .colab-df-convert:hover {\n",
              "      background-color: #434B5C;\n",
              "      box-shadow: 0px 1px 3px 1px rgba(0, 0, 0, 0.15);\n",
              "      filter: drop-shadow(0px 1px 2px rgba(0, 0, 0, 0.3));\n",
              "      fill: #FFFFFF;\n",
              "    }\n",
              "  </style>\n",
              "\n",
              "      <script>\n",
              "        const buttonEl =\n",
              "          document.querySelector('#df-6daa77f0-ebd3-49ee-814d-0a3561d532a9 button.colab-df-convert');\n",
              "        buttonEl.style.display =\n",
              "          google.colab.kernel.accessAllowed ? 'block' : 'none';\n",
              "\n",
              "        async function convertToInteractive(key) {\n",
              "          const element = document.querySelector('#df-6daa77f0-ebd3-49ee-814d-0a3561d532a9');\n",
              "          const dataTable =\n",
              "            await google.colab.kernel.invokeFunction('convertToInteractive',\n",
              "                                                     [key], {});\n",
              "          if (!dataTable) return;\n",
              "\n",
              "          const docLinkHtml = 'Like what you see? Visit the ' +\n",
              "            '<a target=\"_blank\" href=https://colab.research.google.com/notebooks/data_table.ipynb>data table notebook</a>'\n",
              "            + ' to learn more about interactive tables.';\n",
              "          element.innerHTML = '';\n",
              "          dataTable['output_type'] = 'display_data';\n",
              "          await google.colab.output.renderOutput(dataTable, element);\n",
              "          const docLink = document.createElement('div');\n",
              "          docLink.innerHTML = docLinkHtml;\n",
              "          element.appendChild(docLink);\n",
              "        }\n",
              "      </script>\n",
              "    </div>\n",
              "  </div>\n",
              "  "
            ]
          },
          "metadata": {},
          "execution_count": 9
        }
      ]
    },
    {
      "cell_type": "code",
      "source": [
        "# Concatenate molecules with Ro5 data\n",
        "molecules = pd.concat([molecules, ro5_properties], axis=1)\n",
        "molecules.head()"
      ],
      "metadata": {
        "colab": {
          "base_uri": "https://localhost:8080/",
          "height": 238
        },
        "id": "5kjjWXm1RLNb",
        "outputId": "60a2a607-2f19-4995-fdf9-b9db10144ff0"
      },
      "execution_count": 10,
      "outputs": [
        {
          "output_type": "execute_result",
          "data": {
            "text/plain": [
              "                      IC50 units  \\\n",
              "molecule_chembl_id                 \n",
              "CHEMBL2441741        230.0    nM   \n",
              "CHEMBL221366         500.0    nM   \n",
              "CHEMBL2441745        610.0    nM   \n",
              "CHEMBL1876821        940.0    nM   \n",
              "CHEMBL3099526       1040.0    nM   \n",
              "\n",
              "                                                               smiles  \\\n",
              "molecule_chembl_id                                                      \n",
              "CHEMBL2441741       CC(C)C[C@H](NC(=O)[C@H](Cc1cccc2ccccc12)NC(=O)...   \n",
              "CHEMBL221366                                    O=C(Oc1cccnc1)c1cccs1   \n",
              "CHEMBL2441745       CC(C)C[C@H](NC(=O)[C@H](Cc1cccc2ccccc12)NC(=O)...   \n",
              "CHEMBL1876821                 CN(CC(=O)NC1CCCC1)S(=O)(=O)c1cccc(Cl)c1   \n",
              "CHEMBL3099526            CC1CCN(S(=O)(=O)c2ccc3c(c2)C(=O)C(=O)N3C)CC1   \n",
              "\n",
              "                       pIC50  molecular_weight  n_hba  n_hbd    logp  \\\n",
              "molecule_chembl_id                                                     \n",
              "CHEMBL2441741       6.638272        600.294785      6      4  3.4181   \n",
              "CHEMBL221366        6.301030        205.019749      4      0  2.3623   \n",
              "CHEMBL2441745       6.214670        685.347549      7      5  3.3129   \n",
              "CHEMBL1876821       6.026872        330.080491      3      1  2.0193   \n",
              "CHEMBL3099526       5.982967        322.098728      4      0  1.2663   \n",
              "\n",
              "                    ro5_fulfilled  \n",
              "molecule_chembl_id                 \n",
              "CHEMBL2441741                True  \n",
              "CHEMBL221366                 True  \n",
              "CHEMBL2441745                True  \n",
              "CHEMBL1876821                True  \n",
              "CHEMBL3099526                True  "
            ],
            "text/html": [
              "\n",
              "  <div id=\"df-e09ca59f-f16e-40e9-8c9d-f9adec4aa063\">\n",
              "    <div class=\"colab-df-container\">\n",
              "      <div>\n",
              "<style scoped>\n",
              "    .dataframe tbody tr th:only-of-type {\n",
              "        vertical-align: middle;\n",
              "    }\n",
              "\n",
              "    .dataframe tbody tr th {\n",
              "        vertical-align: top;\n",
              "    }\n",
              "\n",
              "    .dataframe thead th {\n",
              "        text-align: right;\n",
              "    }\n",
              "</style>\n",
              "<table border=\"1\" class=\"dataframe\">\n",
              "  <thead>\n",
              "    <tr style=\"text-align: right;\">\n",
              "      <th></th>\n",
              "      <th>IC50</th>\n",
              "      <th>units</th>\n",
              "      <th>smiles</th>\n",
              "      <th>pIC50</th>\n",
              "      <th>molecular_weight</th>\n",
              "      <th>n_hba</th>\n",
              "      <th>n_hbd</th>\n",
              "      <th>logp</th>\n",
              "      <th>ro5_fulfilled</th>\n",
              "    </tr>\n",
              "    <tr>\n",
              "      <th>molecule_chembl_id</th>\n",
              "      <th></th>\n",
              "      <th></th>\n",
              "      <th></th>\n",
              "      <th></th>\n",
              "      <th></th>\n",
              "      <th></th>\n",
              "      <th></th>\n",
              "      <th></th>\n",
              "      <th></th>\n",
              "    </tr>\n",
              "  </thead>\n",
              "  <tbody>\n",
              "    <tr>\n",
              "      <th>CHEMBL2441741</th>\n",
              "      <td>230.0</td>\n",
              "      <td>nM</td>\n",
              "      <td>CC(C)C[C@H](NC(=O)[C@H](Cc1cccc2ccccc12)NC(=O)...</td>\n",
              "      <td>6.638272</td>\n",
              "      <td>600.294785</td>\n",
              "      <td>6</td>\n",
              "      <td>4</td>\n",
              "      <td>3.4181</td>\n",
              "      <td>True</td>\n",
              "    </tr>\n",
              "    <tr>\n",
              "      <th>CHEMBL221366</th>\n",
              "      <td>500.0</td>\n",
              "      <td>nM</td>\n",
              "      <td>O=C(Oc1cccnc1)c1cccs1</td>\n",
              "      <td>6.301030</td>\n",
              "      <td>205.019749</td>\n",
              "      <td>4</td>\n",
              "      <td>0</td>\n",
              "      <td>2.3623</td>\n",
              "      <td>True</td>\n",
              "    </tr>\n",
              "    <tr>\n",
              "      <th>CHEMBL2441745</th>\n",
              "      <td>610.0</td>\n",
              "      <td>nM</td>\n",
              "      <td>CC(C)C[C@H](NC(=O)[C@H](Cc1cccc2ccccc12)NC(=O)...</td>\n",
              "      <td>6.214670</td>\n",
              "      <td>685.347549</td>\n",
              "      <td>7</td>\n",
              "      <td>5</td>\n",
              "      <td>3.3129</td>\n",
              "      <td>True</td>\n",
              "    </tr>\n",
              "    <tr>\n",
              "      <th>CHEMBL1876821</th>\n",
              "      <td>940.0</td>\n",
              "      <td>nM</td>\n",
              "      <td>CN(CC(=O)NC1CCCC1)S(=O)(=O)c1cccc(Cl)c1</td>\n",
              "      <td>6.026872</td>\n",
              "      <td>330.080491</td>\n",
              "      <td>3</td>\n",
              "      <td>1</td>\n",
              "      <td>2.0193</td>\n",
              "      <td>True</td>\n",
              "    </tr>\n",
              "    <tr>\n",
              "      <th>CHEMBL3099526</th>\n",
              "      <td>1040.0</td>\n",
              "      <td>nM</td>\n",
              "      <td>CC1CCN(S(=O)(=O)c2ccc3c(c2)C(=O)C(=O)N3C)CC1</td>\n",
              "      <td>5.982967</td>\n",
              "      <td>322.098728</td>\n",
              "      <td>4</td>\n",
              "      <td>0</td>\n",
              "      <td>1.2663</td>\n",
              "      <td>True</td>\n",
              "    </tr>\n",
              "  </tbody>\n",
              "</table>\n",
              "</div>\n",
              "      <button class=\"colab-df-convert\" onclick=\"convertToInteractive('df-e09ca59f-f16e-40e9-8c9d-f9adec4aa063')\"\n",
              "              title=\"Convert this dataframe to an interactive table.\"\n",
              "              style=\"display:none;\">\n",
              "        \n",
              "  <svg xmlns=\"http://www.w3.org/2000/svg\" height=\"24px\"viewBox=\"0 0 24 24\"\n",
              "       width=\"24px\">\n",
              "    <path d=\"M0 0h24v24H0V0z\" fill=\"none\"/>\n",
              "    <path d=\"M18.56 5.44l.94 2.06.94-2.06 2.06-.94-2.06-.94-.94-2.06-.94 2.06-2.06.94zm-11 1L8.5 8.5l.94-2.06 2.06-.94-2.06-.94L8.5 2.5l-.94 2.06-2.06.94zm10 10l.94 2.06.94-2.06 2.06-.94-2.06-.94-.94-2.06-.94 2.06-2.06.94z\"/><path d=\"M17.41 7.96l-1.37-1.37c-.4-.4-.92-.59-1.43-.59-.52 0-1.04.2-1.43.59L10.3 9.45l-7.72 7.72c-.78.78-.78 2.05 0 2.83L4 21.41c.39.39.9.59 1.41.59.51 0 1.02-.2 1.41-.59l7.78-7.78 2.81-2.81c.8-.78.8-2.07 0-2.86zM5.41 20L4 18.59l7.72-7.72 1.47 1.35L5.41 20z\"/>\n",
              "  </svg>\n",
              "      </button>\n",
              "      \n",
              "  <style>\n",
              "    .colab-df-container {\n",
              "      display:flex;\n",
              "      flex-wrap:wrap;\n",
              "      gap: 12px;\n",
              "    }\n",
              "\n",
              "    .colab-df-convert {\n",
              "      background-color: #E8F0FE;\n",
              "      border: none;\n",
              "      border-radius: 50%;\n",
              "      cursor: pointer;\n",
              "      display: none;\n",
              "      fill: #1967D2;\n",
              "      height: 32px;\n",
              "      padding: 0 0 0 0;\n",
              "      width: 32px;\n",
              "    }\n",
              "\n",
              "    .colab-df-convert:hover {\n",
              "      background-color: #E2EBFA;\n",
              "      box-shadow: 0px 1px 2px rgba(60, 64, 67, 0.3), 0px 1px 3px 1px rgba(60, 64, 67, 0.15);\n",
              "      fill: #174EA6;\n",
              "    }\n",
              "\n",
              "    [theme=dark] .colab-df-convert {\n",
              "      background-color: #3B4455;\n",
              "      fill: #D2E3FC;\n",
              "    }\n",
              "\n",
              "    [theme=dark] .colab-df-convert:hover {\n",
              "      background-color: #434B5C;\n",
              "      box-shadow: 0px 1px 3px 1px rgba(0, 0, 0, 0.15);\n",
              "      filter: drop-shadow(0px 1px 2px rgba(0, 0, 0, 0.3));\n",
              "      fill: #FFFFFF;\n",
              "    }\n",
              "  </style>\n",
              "\n",
              "      <script>\n",
              "        const buttonEl =\n",
              "          document.querySelector('#df-e09ca59f-f16e-40e9-8c9d-f9adec4aa063 button.colab-df-convert');\n",
              "        buttonEl.style.display =\n",
              "          google.colab.kernel.accessAllowed ? 'block' : 'none';\n",
              "\n",
              "        async function convertToInteractive(key) {\n",
              "          const element = document.querySelector('#df-e09ca59f-f16e-40e9-8c9d-f9adec4aa063');\n",
              "          const dataTable =\n",
              "            await google.colab.kernel.invokeFunction('convertToInteractive',\n",
              "                                                     [key], {});\n",
              "          if (!dataTable) return;\n",
              "\n",
              "          const docLinkHtml = 'Like what you see? Visit the ' +\n",
              "            '<a target=\"_blank\" href=https://colab.research.google.com/notebooks/data_table.ipynb>data table notebook</a>'\n",
              "            + ' to learn more about interactive tables.';\n",
              "          element.innerHTML = '';\n",
              "          dataTable['output_type'] = 'display_data';\n",
              "          await google.colab.output.renderOutput(dataTable, element);\n",
              "          const docLink = document.createElement('div');\n",
              "          docLink.innerHTML = docLinkHtml;\n",
              "          element.appendChild(docLink);\n",
              "        }\n",
              "      </script>\n",
              "    </div>\n",
              "  </div>\n",
              "  "
            ]
          },
          "metadata": {},
          "execution_count": 10
        }
      ]
    },
    {
      "cell_type": "code",
      "source": [
        "# Note that the column \"ro5_fulfilled\" contains boolean values.\n",
        "# Thus, we can use the column values directly to subset data.\n",
        "# Note that ~ negates boolean values.\n",
        "molecules_ro5_fulfilled = molecules[molecules[\"ro5_fulfilled\"]]\n",
        "molecules_ro5_violated = molecules[~molecules[\"ro5_fulfilled\"]]\n",
        "\n",
        "print(f\"# compounds in unfiltered data set: {molecules.shape[0]}\")\n",
        "print(f\"# compounds in filtered data set: {molecules_ro5_fulfilled.shape[0]}\")\n",
        "print(f\"# compounds not compliant with the Ro5: {molecules_ro5_violated.shape[0]}\")\n",
        "# NBVAL_CHECK_OUTPUT"
      ],
      "metadata": {
        "colab": {
          "base_uri": "https://localhost:8080/"
        },
        "id": "NW3EcA-1RRTX",
        "outputId": "6d33bc55-13af-41e1-cfb1-ff08732b71fa"
      },
      "execution_count": 11,
      "outputs": [
        {
          "output_type": "stream",
          "name": "stdout",
          "text": [
            "# compounds in unfiltered data set: 152\n",
            "# compounds in filtered data set: 129\n",
            "# compounds not compliant with the Ro5: 23\n"
          ]
        }
      ]
    },
    {
      "cell_type": "code",
      "source": [
        "# Save filtered data\n",
        "molecules_ro5_fulfilled.to_csv(\"SARS_compounds_lipinski.csv\")\n",
        "molecules_ro5_fulfilled.head()"
      ],
      "metadata": {
        "colab": {
          "base_uri": "https://localhost:8080/",
          "height": 238
        },
        "id": "1UTCSMiwRnzq",
        "outputId": "f1a7b3ba-11f0-47e2-9841-4a0db3be4262"
      },
      "execution_count": 12,
      "outputs": [
        {
          "output_type": "execute_result",
          "data": {
            "text/plain": [
              "                      IC50 units  \\\n",
              "molecule_chembl_id                 \n",
              "CHEMBL2441741        230.0    nM   \n",
              "CHEMBL221366         500.0    nM   \n",
              "CHEMBL2441745        610.0    nM   \n",
              "CHEMBL1876821        940.0    nM   \n",
              "CHEMBL3099526       1040.0    nM   \n",
              "\n",
              "                                                               smiles  \\\n",
              "molecule_chembl_id                                                      \n",
              "CHEMBL2441741       CC(C)C[C@H](NC(=O)[C@H](Cc1cccc2ccccc12)NC(=O)...   \n",
              "CHEMBL221366                                    O=C(Oc1cccnc1)c1cccs1   \n",
              "CHEMBL2441745       CC(C)C[C@H](NC(=O)[C@H](Cc1cccc2ccccc12)NC(=O)...   \n",
              "CHEMBL1876821                 CN(CC(=O)NC1CCCC1)S(=O)(=O)c1cccc(Cl)c1   \n",
              "CHEMBL3099526            CC1CCN(S(=O)(=O)c2ccc3c(c2)C(=O)C(=O)N3C)CC1   \n",
              "\n",
              "                       pIC50  molecular_weight  n_hba  n_hbd    logp  \\\n",
              "molecule_chembl_id                                                     \n",
              "CHEMBL2441741       6.638272        600.294785      6      4  3.4181   \n",
              "CHEMBL221366        6.301030        205.019749      4      0  2.3623   \n",
              "CHEMBL2441745       6.214670        685.347549      7      5  3.3129   \n",
              "CHEMBL1876821       6.026872        330.080491      3      1  2.0193   \n",
              "CHEMBL3099526       5.982967        322.098728      4      0  1.2663   \n",
              "\n",
              "                    ro5_fulfilled  \n",
              "molecule_chembl_id                 \n",
              "CHEMBL2441741                True  \n",
              "CHEMBL221366                 True  \n",
              "CHEMBL2441745                True  \n",
              "CHEMBL1876821                True  \n",
              "CHEMBL3099526                True  "
            ],
            "text/html": [
              "\n",
              "  <div id=\"df-c204a1c8-26e2-4107-8c08-5035e56f68e7\">\n",
              "    <div class=\"colab-df-container\">\n",
              "      <div>\n",
              "<style scoped>\n",
              "    .dataframe tbody tr th:only-of-type {\n",
              "        vertical-align: middle;\n",
              "    }\n",
              "\n",
              "    .dataframe tbody tr th {\n",
              "        vertical-align: top;\n",
              "    }\n",
              "\n",
              "    .dataframe thead th {\n",
              "        text-align: right;\n",
              "    }\n",
              "</style>\n",
              "<table border=\"1\" class=\"dataframe\">\n",
              "  <thead>\n",
              "    <tr style=\"text-align: right;\">\n",
              "      <th></th>\n",
              "      <th>IC50</th>\n",
              "      <th>units</th>\n",
              "      <th>smiles</th>\n",
              "      <th>pIC50</th>\n",
              "      <th>molecular_weight</th>\n",
              "      <th>n_hba</th>\n",
              "      <th>n_hbd</th>\n",
              "      <th>logp</th>\n",
              "      <th>ro5_fulfilled</th>\n",
              "    </tr>\n",
              "    <tr>\n",
              "      <th>molecule_chembl_id</th>\n",
              "      <th></th>\n",
              "      <th></th>\n",
              "      <th></th>\n",
              "      <th></th>\n",
              "      <th></th>\n",
              "      <th></th>\n",
              "      <th></th>\n",
              "      <th></th>\n",
              "      <th></th>\n",
              "    </tr>\n",
              "  </thead>\n",
              "  <tbody>\n",
              "    <tr>\n",
              "      <th>CHEMBL2441741</th>\n",
              "      <td>230.0</td>\n",
              "      <td>nM</td>\n",
              "      <td>CC(C)C[C@H](NC(=O)[C@H](Cc1cccc2ccccc12)NC(=O)...</td>\n",
              "      <td>6.638272</td>\n",
              "      <td>600.294785</td>\n",
              "      <td>6</td>\n",
              "      <td>4</td>\n",
              "      <td>3.4181</td>\n",
              "      <td>True</td>\n",
              "    </tr>\n",
              "    <tr>\n",
              "      <th>CHEMBL221366</th>\n",
              "      <td>500.0</td>\n",
              "      <td>nM</td>\n",
              "      <td>O=C(Oc1cccnc1)c1cccs1</td>\n",
              "      <td>6.301030</td>\n",
              "      <td>205.019749</td>\n",
              "      <td>4</td>\n",
              "      <td>0</td>\n",
              "      <td>2.3623</td>\n",
              "      <td>True</td>\n",
              "    </tr>\n",
              "    <tr>\n",
              "      <th>CHEMBL2441745</th>\n",
              "      <td>610.0</td>\n",
              "      <td>nM</td>\n",
              "      <td>CC(C)C[C@H](NC(=O)[C@H](Cc1cccc2ccccc12)NC(=O)...</td>\n",
              "      <td>6.214670</td>\n",
              "      <td>685.347549</td>\n",
              "      <td>7</td>\n",
              "      <td>5</td>\n",
              "      <td>3.3129</td>\n",
              "      <td>True</td>\n",
              "    </tr>\n",
              "    <tr>\n",
              "      <th>CHEMBL1876821</th>\n",
              "      <td>940.0</td>\n",
              "      <td>nM</td>\n",
              "      <td>CN(CC(=O)NC1CCCC1)S(=O)(=O)c1cccc(Cl)c1</td>\n",
              "      <td>6.026872</td>\n",
              "      <td>330.080491</td>\n",
              "      <td>3</td>\n",
              "      <td>1</td>\n",
              "      <td>2.0193</td>\n",
              "      <td>True</td>\n",
              "    </tr>\n",
              "    <tr>\n",
              "      <th>CHEMBL3099526</th>\n",
              "      <td>1040.0</td>\n",
              "      <td>nM</td>\n",
              "      <td>CC1CCN(S(=O)(=O)c2ccc3c(c2)C(=O)C(=O)N3C)CC1</td>\n",
              "      <td>5.982967</td>\n",
              "      <td>322.098728</td>\n",
              "      <td>4</td>\n",
              "      <td>0</td>\n",
              "      <td>1.2663</td>\n",
              "      <td>True</td>\n",
              "    </tr>\n",
              "  </tbody>\n",
              "</table>\n",
              "</div>\n",
              "      <button class=\"colab-df-convert\" onclick=\"convertToInteractive('df-c204a1c8-26e2-4107-8c08-5035e56f68e7')\"\n",
              "              title=\"Convert this dataframe to an interactive table.\"\n",
              "              style=\"display:none;\">\n",
              "        \n",
              "  <svg xmlns=\"http://www.w3.org/2000/svg\" height=\"24px\"viewBox=\"0 0 24 24\"\n",
              "       width=\"24px\">\n",
              "    <path d=\"M0 0h24v24H0V0z\" fill=\"none\"/>\n",
              "    <path d=\"M18.56 5.44l.94 2.06.94-2.06 2.06-.94-2.06-.94-.94-2.06-.94 2.06-2.06.94zm-11 1L8.5 8.5l.94-2.06 2.06-.94-2.06-.94L8.5 2.5l-.94 2.06-2.06.94zm10 10l.94 2.06.94-2.06 2.06-.94-2.06-.94-.94-2.06-.94 2.06-2.06.94z\"/><path d=\"M17.41 7.96l-1.37-1.37c-.4-.4-.92-.59-1.43-.59-.52 0-1.04.2-1.43.59L10.3 9.45l-7.72 7.72c-.78.78-.78 2.05 0 2.83L4 21.41c.39.39.9.59 1.41.59.51 0 1.02-.2 1.41-.59l7.78-7.78 2.81-2.81c.8-.78.8-2.07 0-2.86zM5.41 20L4 18.59l7.72-7.72 1.47 1.35L5.41 20z\"/>\n",
              "  </svg>\n",
              "      </button>\n",
              "      \n",
              "  <style>\n",
              "    .colab-df-container {\n",
              "      display:flex;\n",
              "      flex-wrap:wrap;\n",
              "      gap: 12px;\n",
              "    }\n",
              "\n",
              "    .colab-df-convert {\n",
              "      background-color: #E8F0FE;\n",
              "      border: none;\n",
              "      border-radius: 50%;\n",
              "      cursor: pointer;\n",
              "      display: none;\n",
              "      fill: #1967D2;\n",
              "      height: 32px;\n",
              "      padding: 0 0 0 0;\n",
              "      width: 32px;\n",
              "    }\n",
              "\n",
              "    .colab-df-convert:hover {\n",
              "      background-color: #E2EBFA;\n",
              "      box-shadow: 0px 1px 2px rgba(60, 64, 67, 0.3), 0px 1px 3px 1px rgba(60, 64, 67, 0.15);\n",
              "      fill: #174EA6;\n",
              "    }\n",
              "\n",
              "    [theme=dark] .colab-df-convert {\n",
              "      background-color: #3B4455;\n",
              "      fill: #D2E3FC;\n",
              "    }\n",
              "\n",
              "    [theme=dark] .colab-df-convert:hover {\n",
              "      background-color: #434B5C;\n",
              "      box-shadow: 0px 1px 3px 1px rgba(0, 0, 0, 0.15);\n",
              "      filter: drop-shadow(0px 1px 2px rgba(0, 0, 0, 0.3));\n",
              "      fill: #FFFFFF;\n",
              "    }\n",
              "  </style>\n",
              "\n",
              "      <script>\n",
              "        const buttonEl =\n",
              "          document.querySelector('#df-c204a1c8-26e2-4107-8c08-5035e56f68e7 button.colab-df-convert');\n",
              "        buttonEl.style.display =\n",
              "          google.colab.kernel.accessAllowed ? 'block' : 'none';\n",
              "\n",
              "        async function convertToInteractive(key) {\n",
              "          const element = document.querySelector('#df-c204a1c8-26e2-4107-8c08-5035e56f68e7');\n",
              "          const dataTable =\n",
              "            await google.colab.kernel.invokeFunction('convertToInteractive',\n",
              "                                                     [key], {});\n",
              "          if (!dataTable) return;\n",
              "\n",
              "          const docLinkHtml = 'Like what you see? Visit the ' +\n",
              "            '<a target=\"_blank\" href=https://colab.research.google.com/notebooks/data_table.ipynb>data table notebook</a>'\n",
              "            + ' to learn more about interactive tables.';\n",
              "          element.innerHTML = '';\n",
              "          dataTable['output_type'] = 'display_data';\n",
              "          await google.colab.output.renderOutput(dataTable, element);\n",
              "          const docLink = document.createElement('div');\n",
              "          docLink.innerHTML = docLinkHtml;\n",
              "          element.appendChild(docLink);\n",
              "        }\n",
              "      </script>\n",
              "    </div>\n",
              "  </div>\n",
              "  "
            ]
          },
          "metadata": {},
          "execution_count": 12
        }
      ]
    },
    {
      "cell_type": "markdown",
      "source": [
        "###**2. Calculate Statistical Ro5 Properties** "
      ],
      "metadata": {
        "id": "hcnbS4N7SWmF"
      }
    },
    {
      "cell_type": "code",
      "source": [
        "# Define a helper function to calculate the mean and standard deviation for an input DataFrame\n",
        "def calculate_mean_std(dataframe):\n",
        "    \"\"\"\n",
        "    Calculate the mean and standard deviation of a dataset.\n",
        "\n",
        "    Parameters\n",
        "    ----------\n",
        "    dataframe : pd.DataFrame\n",
        "        Properties (columns) for a set of items (rows).\n",
        "\n",
        "    Returns\n",
        "    -------\n",
        "    pd.DataFrame\n",
        "        Mean and standard deviation (columns) for different properties (rows).\n",
        "    \"\"\"\n",
        "    # Generate descriptive statistics for property columns\n",
        "    stats = dataframe.describe()\n",
        "    # Transpose DataFrame (statistical measures = columns)\n",
        "    stats = stats.T\n",
        "    # Select mean and standard deviation\n",
        "    stats = stats[[\"mean\", \"std\"]]\n",
        "    return stats"
      ],
      "metadata": {
        "id": "TtPde3MuSZNo"
      },
      "execution_count": 13,
      "outputs": []
    },
    {
      "cell_type": "markdown",
      "source": [
        "###**Calculate statistics of compounds that satisfy Ro5**"
      ],
      "metadata": {
        "id": "UxV9-I07V19G"
      }
    },
    {
      "cell_type": "code",
      "source": [
        "molecules_ro5_fulfilled_stats = calculate_mean_std(\n",
        "    molecules_ro5_fulfilled[[\"molecular_weight\", \"n_hba\", \"n_hbd\", \"logp\"]]\n",
        ")\n",
        "molecules_ro5_fulfilled_stats\n",
        "# NBVAL_CHECK_OUTPUT"
      ],
      "metadata": {
        "colab": {
          "base_uri": "https://localhost:8080/",
          "height": 175
        },
        "id": "-LpYQMajSdw4",
        "outputId": "d37308ec-6b94-4970-efe8-78fb2187d594"
      },
      "execution_count": 14,
      "outputs": [
        {
          "output_type": "execute_result",
          "data": {
            "text/plain": [
              "                        mean         std\n",
              "molecular_weight  413.441777  101.219728\n",
              "n_hba               5.186047    2.192913\n",
              "n_hbd               1.821705    1.553472\n",
              "logp                3.147502    2.312134"
            ],
            "text/html": [
              "\n",
              "  <div id=\"df-8043fe1c-7615-4913-81a7-cae678f1f9a5\">\n",
              "    <div class=\"colab-df-container\">\n",
              "      <div>\n",
              "<style scoped>\n",
              "    .dataframe tbody tr th:only-of-type {\n",
              "        vertical-align: middle;\n",
              "    }\n",
              "\n",
              "    .dataframe tbody tr th {\n",
              "        vertical-align: top;\n",
              "    }\n",
              "\n",
              "    .dataframe thead th {\n",
              "        text-align: right;\n",
              "    }\n",
              "</style>\n",
              "<table border=\"1\" class=\"dataframe\">\n",
              "  <thead>\n",
              "    <tr style=\"text-align: right;\">\n",
              "      <th></th>\n",
              "      <th>mean</th>\n",
              "      <th>std</th>\n",
              "    </tr>\n",
              "  </thead>\n",
              "  <tbody>\n",
              "    <tr>\n",
              "      <th>molecular_weight</th>\n",
              "      <td>413.441777</td>\n",
              "      <td>101.219728</td>\n",
              "    </tr>\n",
              "    <tr>\n",
              "      <th>n_hba</th>\n",
              "      <td>5.186047</td>\n",
              "      <td>2.192913</td>\n",
              "    </tr>\n",
              "    <tr>\n",
              "      <th>n_hbd</th>\n",
              "      <td>1.821705</td>\n",
              "      <td>1.553472</td>\n",
              "    </tr>\n",
              "    <tr>\n",
              "      <th>logp</th>\n",
              "      <td>3.147502</td>\n",
              "      <td>2.312134</td>\n",
              "    </tr>\n",
              "  </tbody>\n",
              "</table>\n",
              "</div>\n",
              "      <button class=\"colab-df-convert\" onclick=\"convertToInteractive('df-8043fe1c-7615-4913-81a7-cae678f1f9a5')\"\n",
              "              title=\"Convert this dataframe to an interactive table.\"\n",
              "              style=\"display:none;\">\n",
              "        \n",
              "  <svg xmlns=\"http://www.w3.org/2000/svg\" height=\"24px\"viewBox=\"0 0 24 24\"\n",
              "       width=\"24px\">\n",
              "    <path d=\"M0 0h24v24H0V0z\" fill=\"none\"/>\n",
              "    <path d=\"M18.56 5.44l.94 2.06.94-2.06 2.06-.94-2.06-.94-.94-2.06-.94 2.06-2.06.94zm-11 1L8.5 8.5l.94-2.06 2.06-.94-2.06-.94L8.5 2.5l-.94 2.06-2.06.94zm10 10l.94 2.06.94-2.06 2.06-.94-2.06-.94-.94-2.06-.94 2.06-2.06.94z\"/><path d=\"M17.41 7.96l-1.37-1.37c-.4-.4-.92-.59-1.43-.59-.52 0-1.04.2-1.43.59L10.3 9.45l-7.72 7.72c-.78.78-.78 2.05 0 2.83L4 21.41c.39.39.9.59 1.41.59.51 0 1.02-.2 1.41-.59l7.78-7.78 2.81-2.81c.8-.78.8-2.07 0-2.86zM5.41 20L4 18.59l7.72-7.72 1.47 1.35L5.41 20z\"/>\n",
              "  </svg>\n",
              "      </button>\n",
              "      \n",
              "  <style>\n",
              "    .colab-df-container {\n",
              "      display:flex;\n",
              "      flex-wrap:wrap;\n",
              "      gap: 12px;\n",
              "    }\n",
              "\n",
              "    .colab-df-convert {\n",
              "      background-color: #E8F0FE;\n",
              "      border: none;\n",
              "      border-radius: 50%;\n",
              "      cursor: pointer;\n",
              "      display: none;\n",
              "      fill: #1967D2;\n",
              "      height: 32px;\n",
              "      padding: 0 0 0 0;\n",
              "      width: 32px;\n",
              "    }\n",
              "\n",
              "    .colab-df-convert:hover {\n",
              "      background-color: #E2EBFA;\n",
              "      box-shadow: 0px 1px 2px rgba(60, 64, 67, 0.3), 0px 1px 3px 1px rgba(60, 64, 67, 0.15);\n",
              "      fill: #174EA6;\n",
              "    }\n",
              "\n",
              "    [theme=dark] .colab-df-convert {\n",
              "      background-color: #3B4455;\n",
              "      fill: #D2E3FC;\n",
              "    }\n",
              "\n",
              "    [theme=dark] .colab-df-convert:hover {\n",
              "      background-color: #434B5C;\n",
              "      box-shadow: 0px 1px 3px 1px rgba(0, 0, 0, 0.15);\n",
              "      filter: drop-shadow(0px 1px 2px rgba(0, 0, 0, 0.3));\n",
              "      fill: #FFFFFF;\n",
              "    }\n",
              "  </style>\n",
              "\n",
              "      <script>\n",
              "        const buttonEl =\n",
              "          document.querySelector('#df-8043fe1c-7615-4913-81a7-cae678f1f9a5 button.colab-df-convert');\n",
              "        buttonEl.style.display =\n",
              "          google.colab.kernel.accessAllowed ? 'block' : 'none';\n",
              "\n",
              "        async function convertToInteractive(key) {\n",
              "          const element = document.querySelector('#df-8043fe1c-7615-4913-81a7-cae678f1f9a5');\n",
              "          const dataTable =\n",
              "            await google.colab.kernel.invokeFunction('convertToInteractive',\n",
              "                                                     [key], {});\n",
              "          if (!dataTable) return;\n",
              "\n",
              "          const docLinkHtml = 'Like what you see? Visit the ' +\n",
              "            '<a target=\"_blank\" href=https://colab.research.google.com/notebooks/data_table.ipynb>data table notebook</a>'\n",
              "            + ' to learn more about interactive tables.';\n",
              "          element.innerHTML = '';\n",
              "          dataTable['output_type'] = 'display_data';\n",
              "          await google.colab.output.renderOutput(dataTable, element);\n",
              "          const docLink = document.createElement('div');\n",
              "          docLink.innerHTML = docLinkHtml;\n",
              "          element.appendChild(docLink);\n",
              "        }\n",
              "      </script>\n",
              "    </div>\n",
              "  </div>\n",
              "  "
            ]
          },
          "metadata": {},
          "execution_count": 14
        }
      ]
    },
    {
      "cell_type": "markdown",
      "source": [
        "###**Calculate statistics of compounds that violate Ro5**"
      ],
      "metadata": {
        "id": "Lo1OZeQQWTiG"
      }
    },
    {
      "cell_type": "code",
      "source": [
        "molecules_ro5_violated_stats = calculate_mean_std(\n",
        "    molecules_ro5_violated[[\"molecular_weight\", \"n_hba\", \"n_hbd\", \"logp\"]]\n",
        ")\n",
        "molecules_ro5_violated_stats"
      ],
      "metadata": {
        "colab": {
          "base_uri": "https://localhost:8080/",
          "height": 175
        },
        "id": "fGZkjKh5SmOK",
        "outputId": "6e002dd5-bd13-4170-b598-a8548ecd2dfd"
      },
      "execution_count": 15,
      "outputs": [
        {
          "output_type": "execute_result",
          "data": {
            "text/plain": [
              "                        mean        std\n",
              "molecular_weight  582.440841  69.314208\n",
              "n_hba               9.086957   3.800874\n",
              "n_hbd               6.130435   4.003457\n",
              "logp                3.189830   4.645712"
            ],
            "text/html": [
              "\n",
              "  <div id=\"df-b68bf903-e532-49d5-976f-90ebe36999aa\">\n",
              "    <div class=\"colab-df-container\">\n",
              "      <div>\n",
              "<style scoped>\n",
              "    .dataframe tbody tr th:only-of-type {\n",
              "        vertical-align: middle;\n",
              "    }\n",
              "\n",
              "    .dataframe tbody tr th {\n",
              "        vertical-align: top;\n",
              "    }\n",
              "\n",
              "    .dataframe thead th {\n",
              "        text-align: right;\n",
              "    }\n",
              "</style>\n",
              "<table border=\"1\" class=\"dataframe\">\n",
              "  <thead>\n",
              "    <tr style=\"text-align: right;\">\n",
              "      <th></th>\n",
              "      <th>mean</th>\n",
              "      <th>std</th>\n",
              "    </tr>\n",
              "  </thead>\n",
              "  <tbody>\n",
              "    <tr>\n",
              "      <th>molecular_weight</th>\n",
              "      <td>582.440841</td>\n",
              "      <td>69.314208</td>\n",
              "    </tr>\n",
              "    <tr>\n",
              "      <th>n_hba</th>\n",
              "      <td>9.086957</td>\n",
              "      <td>3.800874</td>\n",
              "    </tr>\n",
              "    <tr>\n",
              "      <th>n_hbd</th>\n",
              "      <td>6.130435</td>\n",
              "      <td>4.003457</td>\n",
              "    </tr>\n",
              "    <tr>\n",
              "      <th>logp</th>\n",
              "      <td>3.189830</td>\n",
              "      <td>4.645712</td>\n",
              "    </tr>\n",
              "  </tbody>\n",
              "</table>\n",
              "</div>\n",
              "      <button class=\"colab-df-convert\" onclick=\"convertToInteractive('df-b68bf903-e532-49d5-976f-90ebe36999aa')\"\n",
              "              title=\"Convert this dataframe to an interactive table.\"\n",
              "              style=\"display:none;\">\n",
              "        \n",
              "  <svg xmlns=\"http://www.w3.org/2000/svg\" height=\"24px\"viewBox=\"0 0 24 24\"\n",
              "       width=\"24px\">\n",
              "    <path d=\"M0 0h24v24H0V0z\" fill=\"none\"/>\n",
              "    <path d=\"M18.56 5.44l.94 2.06.94-2.06 2.06-.94-2.06-.94-.94-2.06-.94 2.06-2.06.94zm-11 1L8.5 8.5l.94-2.06 2.06-.94-2.06-.94L8.5 2.5l-.94 2.06-2.06.94zm10 10l.94 2.06.94-2.06 2.06-.94-2.06-.94-.94-2.06-.94 2.06-2.06.94z\"/><path d=\"M17.41 7.96l-1.37-1.37c-.4-.4-.92-.59-1.43-.59-.52 0-1.04.2-1.43.59L10.3 9.45l-7.72 7.72c-.78.78-.78 2.05 0 2.83L4 21.41c.39.39.9.59 1.41.59.51 0 1.02-.2 1.41-.59l7.78-7.78 2.81-2.81c.8-.78.8-2.07 0-2.86zM5.41 20L4 18.59l7.72-7.72 1.47 1.35L5.41 20z\"/>\n",
              "  </svg>\n",
              "      </button>\n",
              "      \n",
              "  <style>\n",
              "    .colab-df-container {\n",
              "      display:flex;\n",
              "      flex-wrap:wrap;\n",
              "      gap: 12px;\n",
              "    }\n",
              "\n",
              "    .colab-df-convert {\n",
              "      background-color: #E8F0FE;\n",
              "      border: none;\n",
              "      border-radius: 50%;\n",
              "      cursor: pointer;\n",
              "      display: none;\n",
              "      fill: #1967D2;\n",
              "      height: 32px;\n",
              "      padding: 0 0 0 0;\n",
              "      width: 32px;\n",
              "    }\n",
              "\n",
              "    .colab-df-convert:hover {\n",
              "      background-color: #E2EBFA;\n",
              "      box-shadow: 0px 1px 2px rgba(60, 64, 67, 0.3), 0px 1px 3px 1px rgba(60, 64, 67, 0.15);\n",
              "      fill: #174EA6;\n",
              "    }\n",
              "\n",
              "    [theme=dark] .colab-df-convert {\n",
              "      background-color: #3B4455;\n",
              "      fill: #D2E3FC;\n",
              "    }\n",
              "\n",
              "    [theme=dark] .colab-df-convert:hover {\n",
              "      background-color: #434B5C;\n",
              "      box-shadow: 0px 1px 3px 1px rgba(0, 0, 0, 0.15);\n",
              "      filter: drop-shadow(0px 1px 2px rgba(0, 0, 0, 0.3));\n",
              "      fill: #FFFFFF;\n",
              "    }\n",
              "  </style>\n",
              "\n",
              "      <script>\n",
              "        const buttonEl =\n",
              "          document.querySelector('#df-b68bf903-e532-49d5-976f-90ebe36999aa button.colab-df-convert');\n",
              "        buttonEl.style.display =\n",
              "          google.colab.kernel.accessAllowed ? 'block' : 'none';\n",
              "\n",
              "        async function convertToInteractive(key) {\n",
              "          const element = document.querySelector('#df-b68bf903-e532-49d5-976f-90ebe36999aa');\n",
              "          const dataTable =\n",
              "            await google.colab.kernel.invokeFunction('convertToInteractive',\n",
              "                                                     [key], {});\n",
              "          if (!dataTable) return;\n",
              "\n",
              "          const docLinkHtml = 'Like what you see? Visit the ' +\n",
              "            '<a target=\"_blank\" href=https://colab.research.google.com/notebooks/data_table.ipynb>data table notebook</a>'\n",
              "            + ' to learn more about interactive tables.';\n",
              "          element.innerHTML = '';\n",
              "          dataTable['output_type'] = 'display_data';\n",
              "          await google.colab.output.renderOutput(dataTable, element);\n",
              "          const docLink = document.createElement('div');\n",
              "          docLink.innerHTML = docLinkHtml;\n",
              "          element.appendChild(docLink);\n",
              "        }\n",
              "      </script>\n",
              "    </div>\n",
              "  </div>\n",
              "  "
            ]
          },
          "metadata": {},
          "execution_count": 15
        }
      ]
    },
    {
      "cell_type": "markdown",
      "source": [
        "###**3. Visualise Ro5 Properties**\n",
        "\n",
        "####**Define helper functions to prepare data for radar plotting**\n",
        "\n",
        "**Prepare y values**: Ro5 data is of different magnitudes; rescale Ro5 data to a scale threshold of 5 to evaluate variables equally:\n",
        "\n",
        "    scaled property value = property value / property threshold * scaled property threshold\n",
        "\n",
        "* scaled MWT = MWT / 500 * 5 = MWT / 100\n",
        "* scaled HBA = HBA / 10 * 5 = HBA / 2\n",
        "* scaled HBD = HBD / 5 * 5 = HBD\n",
        "* scaled LogP = LogP / 5 * 5 = LogP\n",
        "\n",
        "This results in a downscaling of the MWT by 100, HBA by 2, while HBD and LogP stay unchanged."
      ],
      "metadata": {
        "id": "ICxL6a3PStcs"
      }
    },
    {
      "cell_type": "code",
      "source": [
        "def _scale_by_thresholds(stats, thresholds, scaled_threshold):\n",
        "    \"\"\"\n",
        "    Scale values for different properties that have each an individually defined threshold.\n",
        "\n",
        "    Parameters\n",
        "    ----------\n",
        "    stats : pd.DataFrame\n",
        "        Dataframe with \"mean\" and \"std\" (columns) for each physicochemical property (rows).\n",
        "    thresholds : dict of str: int\n",
        "        Thresholds defined for each property.\n",
        "    scaled_threshold : int or float\n",
        "        Scaled thresholds across all properties.\n",
        "\n",
        "    Returns\n",
        "    -------\n",
        "    pd.DataFrame\n",
        "        DataFrame with scaled means and standard deviations for each physiochemical property.\n",
        "    \"\"\"\n",
        "    # Raise error if scaling keys and data_stats indicies are not matching\n",
        "    for property_name in stats.index:\n",
        "        if property_name not in thresholds.keys():\n",
        "            raise KeyError(f\"Add property '{property_name}' to scaling variable.\")\n",
        "    # Scale property data\n",
        "    stats_scaled = stats.apply(lambda x: x / thresholds[x.name] * scaled_threshold, axis=1)\n",
        "    return stats_scaled"
      ],
      "metadata": {
        "id": "OXrtUcVfSv0I"
      },
      "execution_count": 16,
      "outputs": []
    },
    {
      "cell_type": "markdown",
      "source": [
        "**Prepare x values**: Construct helper function to return physicochemical property axes as a radar chart; axes set at 0°, 90°, 180°, and 270°; function returns angles as radians. "
      ],
      "metadata": {
        "id": "4NzkANSTS0ut"
      }
    },
    {
      "cell_type": "code",
      "source": [
        "def _define_radial_axes_angles(n_axes):\n",
        "    \"\"\"Define angles (radians) for radial (x-)axes depending on the number of axes.\"\"\"\n",
        "    x_angles = [i / float(n_axes) * 2 * math.pi for i in range(n_axes)]\n",
        "    x_angles += x_angles[:1]\n",
        "    return x_angles"
      ],
      "metadata": {
        "id": "vOroqsqXS35s"
      },
      "execution_count": 17,
      "outputs": []
    },
    {
      "cell_type": "markdown",
      "source": [
        "**[Generate](https://stackoverflow.com/questions/42227409/tutorial-for-python-radar-chart-plot) Radar Plots:**\n",
        "\n",
        "1. Compounds that satisfy the Ro5 \n",
        "2. Compounds that violate the Ro5"
      ],
      "metadata": {
        "id": "FLfzPLfTS79p"
      }
    },
    {
      "cell_type": "code",
      "source": [
        "def plot_radar(\n",
        "    y,\n",
        "    thresholds,\n",
        "    scaled_threshold,\n",
        "    properties_labels,\n",
        "    y_max=None,\n",
        "    output_path=None,\n",
        "):\n",
        "    \"\"\"\n",
        "    Plot a radar chart based on the mean and standard deviation of a data set's properties.\n",
        "\n",
        "    Parameters\n",
        "    ----------\n",
        "    y : pd.DataFrame\n",
        "        Dataframe with \"mean\" and \"std\" (columns) for each physicochemical property (rows).\n",
        "    thresholds : dict of str: int\n",
        "        Thresholds defined for each property.\n",
        "    scaled_threshold : int or float\n",
        "        Scaled thresholds across all properties.\n",
        "    properties_labels : list of str\n",
        "        List of property names to be used as labels in the plot.\n",
        "    y_max : None or int or float\n",
        "        Set maximum y value. If None, let matplotlib decide.\n",
        "    output_path : None or pathlib.Path\n",
        "        If not None, save plot to file.\n",
        "    \"\"\"\n",
        "\n",
        "    # Define radial x-axes angles -- uses our helper function!\n",
        "    x = _define_radial_axes_angles(len(y))\n",
        "    # Scale y-axis values with respect to a defined threshold -- uses our helper function!\n",
        "    y = _scale_by_thresholds(y, thresholds, scaled_threshold)\n",
        "    # Since our chart will be circular we append the first value of each property to the end\n",
        "    y = y.append(y.iloc[0])\n",
        "\n",
        "    # Set figure and subplot axis\n",
        "    plt.figure(figsize=(6, 6))\n",
        "    ax = plt.subplot(111, polar=True)\n",
        "\n",
        "    # Plot data\n",
        "    ax.fill(x, [scaled_threshold] * 5, \"cornflowerblue\", alpha=0.2)\n",
        "    ax.plot(x, y[\"mean\"], \"b\", lw=3, ls=\"-\")\n",
        "    ax.plot(x, y[\"mean\"] + y[\"std\"], \"orange\", lw=2, ls=\"--\")\n",
        "    ax.plot(x, y[\"mean\"] - y[\"std\"], \"orange\", lw=2, ls=\"-.\")\n",
        "\n",
        "    # From here on, we only do plot cosmetics\n",
        "    # Set 0° to 12 o'clock\n",
        "    ax.set_theta_offset(math.pi / 2)\n",
        "    # Set clockwise rotation\n",
        "    ax.set_theta_direction(-1)\n",
        "\n",
        "    # Set y-labels next to 180° radius axis\n",
        "    ax.set_rlabel_position(180)\n",
        "    # Set number of radial axes' ticks and remove labels\n",
        "    plt.xticks(x, [])\n",
        "    # Get maximal y-ticks value\n",
        "    if not y_max:\n",
        "        y_max = int(ax.get_yticks()[-1])\n",
        "    # Set axes limits\n",
        "    plt.ylim(0, y_max)\n",
        "    # Set number and labels of y axis ticks\n",
        "    plt.yticks(\n",
        "        range(1, y_max),\n",
        "        [\"5\" if i == scaled_threshold else \"\" for i in range(1, y_max)],\n",
        "        fontsize=16,\n",
        "    )\n",
        "\n",
        "    # Draw ytick labels to make sure they fit properly\n",
        "    # Note that we use [:1] to exclude the last element which equals the first element (not needed here)\n",
        "    for i, (angle, label) in enumerate(zip(x[:-1], properties_labels)):\n",
        "        if angle == 0:\n",
        "            ha = \"center\"\n",
        "        elif 0 < angle < math.pi:\n",
        "            ha = \"left\"\n",
        "        elif angle == math.pi:\n",
        "            ha = \"center\"\n",
        "        else:\n",
        "            ha = \"right\"\n",
        "        ax.text(\n",
        "            x=angle,\n",
        "            y=y_max + 1,\n",
        "            s=label,\n",
        "            size=16,\n",
        "            horizontalalignment=ha,\n",
        "            verticalalignment=\"center\",\n",
        "        )\n",
        "\n",
        "    # Add legend relative to top-left plot\n",
        "    labels = (\"mean\", \"mean + std\", \"mean - std\", \"rule of five area\")\n",
        "    ax.legend(labels, loc=(1.1, 0.7), labelspacing=0.3, fontsize=16)\n",
        "\n",
        "    # Save plot - use bbox_inches to include text boxes\n",
        "    if output_path:\n",
        "        plt.savefig(output_path, dpi=300, bbox_inches=\"tight\", transparent=True)\n",
        "\n",
        "    plt.show()"
      ],
      "metadata": {
        "id": "O4ZhUNrLTACR"
      },
      "execution_count": 18,
      "outputs": []
    },
    {
      "cell_type": "code",
      "source": [
        "# Define input parameters for radar charts\n",
        "thresholds = {\"molecular_weight\": 500, \"n_hba\": 10, \"n_hbd\": 5, \"logp\": 5}\n",
        "scaled_threshold = 5\n",
        "properties_labels = [\n",
        "    \"Molecular weight (Da) / 100\",\n",
        "    \"# HBA / 2\",\n",
        "    \"# HBD\",\n",
        "    \"LogP\",\n",
        "]\n",
        "y_max = 8"
      ],
      "metadata": {
        "id": "X0Eq9gFSTIia"
      },
      "execution_count": 19,
      "outputs": []
    },
    {
      "cell_type": "markdown",
      "source": [
        "###**3.1 Compounds that satisfy the Ro5**"
      ],
      "metadata": {
        "id": "6JnujbxrTUPq"
      }
    },
    {
      "cell_type": "code",
      "source": [
        "plot_radar(\n",
        "    molecules_ro5_fulfilled_stats,\n",
        "    thresholds,\n",
        "    scaled_threshold,\n",
        "    properties_labels,\n",
        "    y_max,\n",
        ")"
      ],
      "metadata": {
        "colab": {
          "base_uri": "https://localhost:8080/",
          "height": 413
        },
        "id": "Lm73yj3eTWlZ",
        "outputId": "08b5a366-7939-4719-e662-e2d6659a9819"
      },
      "execution_count": 20,
      "outputs": [
        {
          "output_type": "display_data",
          "data": {
            "text/plain": [
              "<Figure size 432x432 with 1 Axes>"
            ],
            "image/png": "[encoded data removed]"
          },
          "metadata": {
            "needs_background": "light"
          }
        }
      ]
    },
    {
      "cell_type": "markdown",
      "source": [
        "* **Light blue square**: shows the area where a molecule’s physicochemical properties are compliant with the Ro5 \n",
        "* **Dark blue line**: highlights the mean values\n",
        "* **Orange dashed lines**: show the standard deviations +/-\n",
        "\n",
        "###**3.2 Plot radarplot of compounds that violate the Ro5**"
      ],
      "metadata": {
        "id": "vzafsucBTcoA"
      }
    },
    {
      "cell_type": "code",
      "source": [
        "plot_radar(\n",
        "    molecules_ro5_violated_stats,\n",
        "    thresholds,\n",
        "    scaled_threshold,\n",
        "    properties_labels,\n",
        "    y_max,\n",
        ")"
      ],
      "metadata": {
        "colab": {
          "base_uri": "https://localhost:8080/",
          "height": 413
        },
        "id": "EZNJmVTFThSJ",
        "outputId": "91146830-cd53-4b84-b5aa-d20904af5b13"
      },
      "execution_count": 21,
      "outputs": [
        {
          "output_type": "display_data",
          "data": {
            "text/plain": [
              "<Figure size 432x432 with 1 Axes>"
            ],
            "image/png": "[encoded data removed]"
          },
          "metadata": {
            "needs_background": "light"
          }
        }
      ]
    },
    {
      "cell_type": "markdown",
      "source": [
        "##**4. Further Screening Research**\n",
        "###**SwissADME**\n",
        "\n",
        "[SwissADME](http://www.swissadme.ch/index.php) allows us to compute physicochemical descriptors as well as to predict ADME parameters, pharmacokinetic properties, druglike nature and medicinal chemistry friendliness of one or multiple small molecules to support drug discovery. However, currently there is no API, molecules have to be manualy entered on SwissADME. Highlighted is example, molecule 2 from our dataset: "
      ],
      "metadata": {
        "id": "hwc4LH_eam9_"
      }
    },
    {
      "cell_type": "code",
      "source": [
        "from IPython.display import Image"
      ],
      "metadata": {
        "id": "nx_3VyW7hrtm"
      },
      "execution_count": 22,
      "outputs": []
    },
    {
      "cell_type": "code",
      "source": [
        "Image(url=\"http://www.swissadme.ch/results/521723204/molecule1/radar.png\", width = 400, height = 400)"
      ],
      "metadata": {
        "colab": {
          "base_uri": "https://localhost:8080/",
          "height": 422
        },
        "id": "BlC_uBtKiFCG",
        "outputId": "58112f26-9be5-4602-9d19-803c5c639d7c"
      },
      "execution_count": 23,
      "outputs": [
        {
          "output_type": "execute_result",
          "data": {
            "text/plain": [
              "<IPython.core.display.Image object>"
            ],
            "text/html": [
              "<img src=\"http://www.swissadme.ch/results/521723204/molecule1/radar.png\" width=\"400\" height=\"400\"/>"
            ]
          },
          "metadata": {},
          "execution_count": 23
        }
      ]
    },
    {
      "cell_type": "code",
      "source": [
        "# Displaying images from Github repo requires changing github.com to raw.githubusercontent and remove blob from url\n",
        "Image(url='https://raw.githubusercontent.com/xai-bio/pan-coronavirus-antivirals/main/images/SwissADME1_Molecule2_SARS1.png')"
      ],
      "metadata": {
        "colab": {
          "base_uri": "https://localhost:8080/",
          "height": 401
        },
        "id": "sj3NTyXgRB50",
        "outputId": "6e6ccc03-c108-4602-a9ba-a95a06ef6752"
      },
      "execution_count": 24,
      "outputs": [
        {
          "output_type": "execute_result",
          "data": {
            "text/plain": [
              "<IPython.core.display.Image object>"
            ],
            "text/html": [
              "<img src=\"https://raw.githubusercontent.com/xai-bio/pan-coronavirus-antivirals/main/images/SwissADME1_Molecule2_SARS1.png\"/>"
            ]
          },
          "metadata": {},
          "execution_count": 24
        }
      ]
    },
    {
      "cell_type": "code",
      "source": [
        "Image(url='https://raw.githubusercontent.com/xai-bio/pan-coronavirus-antivirals/main/images/SwissADME2_Molecule2_SARS1.png')"
      ],
      "metadata": {
        "colab": {
          "base_uri": "https://localhost:8080/",
          "height": 701
        },
        "id": "4ZQ9SsctRPBF",
        "outputId": "533aa0fd-7667-42ba-f8df-c808dac358ce"
      },
      "execution_count": 25,
      "outputs": [
        {
          "output_type": "execute_result",
          "data": {
            "text/plain": [
              "<IPython.core.display.Image object>"
            ],
            "text/html": [
              "<img src=\"https://raw.githubusercontent.com/xai-bio/pan-coronavirus-antivirals/main/images/SwissADME2_Molecule2_SARS1.png\"/>"
            ]
          },
          "metadata": {},
          "execution_count": 25
        }
      ]
    },
    {
      "cell_type": "markdown",
      "source": [
        "####**BOILED-Egg**\n",
        "Apart from efficacy and toxicity, many drug development failures are imputable to poor pharmacokinetics and bioavailability. Gastrointestinal absorption and brain access are two pharmacokinetic behaviors crucial to estimate at various stages of the drug discovery processes. To this end, the **Brain Or IntestinaL EstimateD permeation method (BOILED-Egg)** is proposed as an accurate predictive model that works by computing the lipophilicity and polarity of small molecules (Daina A, Zoete V, 2016)."
      ],
      "metadata": {
        "id": "GY6hLV5iSAWI"
      }
    },
    {
      "cell_type": "code",
      "source": [
        "Image(url='https://raw.githubusercontent.com/xai-bio/pan-coronavirus-antivirals/main/images/BOILED-Egg_Molecule2_SARS1.png')"
      ],
      "metadata": {
        "colab": {
          "base_uri": "https://localhost:8080/",
          "height": 529
        },
        "id": "Am965SAbLim_",
        "outputId": "1b30b746-1d6f-4a08-c473-2a986d25fbb0"
      },
      "execution_count": 26,
      "outputs": [
        {
          "output_type": "execute_result",
          "data": {
            "text/plain": [
              "<IPython.core.display.Image object>"
            ],
            "text/html": [
              "<img src=\"https://raw.githubusercontent.com/xai-bio/pan-coronavirus-antivirals/main/images/BOILED-Egg_Molecule2_SARS1.png\"/>"
            ]
          },
          "metadata": {},
          "execution_count": 26
        }
      ]
    },
    {
      "cell_type": "markdown",
      "source": [
        "**References**:\n",
        "* Daina, A., Michielin, O. & Zoete, V. **SwissADME: a free web tool to evaluate pharmacokinetics, drug-likeness and medicinal chemistry friendliness of small molecules**. Sci Rep 7, 42717 (2017). https://doi.org/10.1038/srep42717\n",
        "* Daina A, Zoete V. **A BOILED-Egg To Predict Gastrointestinal Absorption and Brain Penetration of Small Molecules**. ChemMedChem. 2016 Jun 6;11(11):1117-21. doi: 10.1002/cmdc.201600182. Epub 2016 May 24. PMID: 27218427; PMCID: PMC5089604.\n",
        "* Clark AM, Dole K, Coulon-Spektor A, McNutt A, Grass G, Freundlich JS, Reynolds RC, Ekins S. **Open Source Bayesian Models. 1. Application to ADME/Tox and Drug Discovery Datasets**. J Chem Inf Model. 2015 Jun 22;55(6):1231-45. doi: 10.1021/acs.jcim.5b00143. Epub 2015 Jun 3. PMID: 25994950; PMCID: PMC4478615."
      ],
      "metadata": {
        "id": "SNk_FHSyjbOE"
      }
    }
  ]
}
